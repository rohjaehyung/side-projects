{
 "cells": [
  {
   "cell_type": "code",
   "execution_count": 1,
   "metadata": {},
   "outputs": [],
   "source": [
    "import pandas as pd"
   ]
  },
  {
   "cell_type": "code",
   "execution_count": 2,
   "metadata": {},
   "outputs": [],
   "source": [
    "import requests"
   ]
  },
  {
   "cell_type": "code",
   "execution_count": 3,
   "metadata": {},
   "outputs": [],
   "source": [
    "from newsapi import NewsApiClient\n",
    "newsapi = NewsApiClient(api_key='9c982add42654ac38b673a8c3f714c9d')"
   ]
  },
  {
   "cell_type": "code",
   "execution_count": 7,
   "metadata": {},
   "outputs": [
    {
     "name": "stdout",
     "output_type": "stream",
     "text": [
      "{'status': 'ok', 'totalResults': 66, 'articles': [{'source': {'id': 'the-washington-post', 'name': 'The Washington Post'}, 'author': 'Jaclyn Peiser', 'title': 'Target closing 9 stores citing violence, theft - The Washington Post', 'description': 'Retail crime in Seattle, New York and other locations has reached a level that threatens safety and “business performance,” Target said.', 'url': 'https://www.washingtonpost.com/business/2023/09/26/target-stores-closing-retail-crime/', 'urlToImage': 'https://www.washingtonpost.com/wp-apps/imrs.php?src=https://arc-anglerfish-washpost-prod-washpost.s3.amazonaws.com/public/YEHM2A5IE6A4HBWD4JP4APVG3Y.jpg&w=1440', 'publishedAt': '2023-09-27T01:26:00Z', 'content': 'Comment on this story\\r\\nComment\\r\\nTarget said Tuesday that it will close nine stores in urban areas across four states, citing increased violence related to theft and organized retail crime.\\r\\nBy Oct. 2… [+4075 chars]'}, {'source': {'id': None, 'name': 'The Philadelphia Inquirer'}, 'author': 'Robert Moran', 'title': 'Police respond to large number of teenagers stealing from Center City stores - The Philadelphia Inquirer', 'description': 'Several people were arrested, police said.', 'url': 'https://www.inquirer.com/news/philadelphia/center-city-police-teens-stealing-apple-store-20230926.html', 'urlToImage': 'https://www.inquirer.com/resizer/Wo1TBIYbVMrY8tPFd0weGqIYyRQ=/760x507/smart/filters:format(webp)/cloudfront-us-east-1.images.arcpublishing.com/pmn/GNR4W3FNL5FSPKC5347QCLA7CA.jpg', 'publishedAt': '2023-09-27T01:12:53Z', 'content': 'Police responded Tuesday night to a large number of teenagers stealing merchandise from several Center City stores.\\r\\nJust after 8:15 p.m., police reported that many young people were on Walnut Street… [+746 chars]'}, {'source': {'id': None, 'name': 'Fox Business'}, 'author': 'Aislinn Murphy', 'title': \"McDonald's introducing pair of new limited-time dipping sauces to menu - Fox Business\", 'description': \"McDonald's customers will have a couple more choices for dipping sauces once U.S. restaurants start making Sweet & Spicy Jam Sauce and Mambo Sauce limited-time options in October.\", 'url': 'https://www.foxbusiness.com/lifestyle/mcdonalds-introducing-pair-new-limited-time-dipping-sauces-menu', 'urlToImage': 'https://a57.foxnews.com/static.foxbusiness.com/foxbusiness.com/content/uploads/2022/10/0/0/MCD.jpg?ve=1&tl=1', 'publishedAt': '2023-09-27T00:19:16Z', 'content': 'McDonald’s customers will soon have a couple more choices for dipping sauces.\\xa0\\r\\nThat will happen for a limited time once participating U.S. McDonald’s restaurants start making two new dipping sauces … [+2341 chars]'}, {'source': {'id': 'cnn', 'name': 'CNN'}, 'author': 'Brian Fung', 'title': 'US government and 17 states sue Amazon in landmark monopoly case - CNN', 'description': 'The US government and 17 states are suing Amazon in a landmark monopoly case reflecting years of allegations that the e-commerce giant abused its economic dominance and harmed fair competition.', 'url': 'https://www.cnn.com/2023/09/26/tech/ftc-sues-amazon-antitrust-monopoly-case/index.html', 'urlToImage': 'https://media.cnn.com/api/v1/images/stellar/prod/230925150949-01-amazon-us-fulfillment-center-file.jpg?c=16x9&q=w_800,c_fill', 'publishedAt': '2023-09-27T00:02:00Z', 'content': 'The US government and 17 states are suing Amazon in a landmark monopoly case reflecting years of allegations that the e-commerce giant abused its economic dominance and harmed fair competition. \\r\\nThe… [+10809 chars]'}, {'source': {'id': None, 'name': 'ABC 12 News'}, 'author': 'Kevin Craft', 'title': 'Multiple picketers hit by a vehicle outside the Flint Processing Center - WJRT', 'description': 'About five picketers have been hit by a car outside the Flint Processing Center in Swartz Creek.', 'url': 'https://www.abc12.com/news/local/multiple-picketers-hit-by-a-vehicle-outside-the-flint-processing-center/article_31065748-5caf-11ee-a920-6391b7ea3d60.html', 'urlToImage': 'https://bloximages.newyork1.vip.townnews.com/abc12.com/content/tncms/assets/v3/editorial/7/02/702268fe-5cb4-11ee-b144-e35a8ccebe80/65134ea4703fc.image.png?crop=1212%2C636%2C0%2C21&resize=1200%2C630&order=crop%2Cresize', 'publishedAt': '2023-09-27T00:00:00Z', 'content': 'About five picketers have been hit by a car outside the Flint Processing Center in Swartz Creek.\\r\\nSWARTZ CREEK, Mich. (WJRT) - Multiple people striking in Swartz Creek have been hit by a vehicle.\\r\\nCh… [+1380 chars]'}, {'source': {'id': None, 'name': 'CNBC'}, 'author': 'Julie Coleman', 'title': 'Cramer suggests investors use market weakness as a buying opportunity, ties poor stock performance to high bond yields - CNBC', 'description': \"CNBC's Jim Cramer tied the stock market's weakness to the increasing competition offered by U.S. government bonds.\", 'url': 'https://www.cnbc.com/2023/09/26/cramer-suggests-using-market-weakness-as-a-buying-opportunity.html', 'urlToImage': 'https://image.cnbcfm.com/api/v1/image/104433172-IMG_3512rr.jpg?v=1695770107&w=1920&h=1080', 'publishedAt': '2023-09-26T23:15:07Z', 'content': \"CNBC's Jim Cramer said Tuesday that investors should view recent stock market weakness as an opportunity to buy, despite the increasing competition offered by U.S. government bonds.\\r\\nTreasury yields … [+1772 chars]\"}, {'source': {'id': None, 'name': 'The Dallas Morning News'}, 'author': 'Marin Wolf', 'title': 'Dallas lands coveted ARPA-H hub after months of campaigning - The Dallas Morning News', 'description': 'A $2.5 billion federal biotech research agency will call Dallas home after months of targeted campaigning by Texas cities, universities and science advocates,...', 'url': 'https://www.dallasnews.com/business/health-care/2023/09/26/dallas-lands-coveted-federal-biotech-research-hub-after-months-of-campaigning/', 'urlToImage': 'https://dmn-dallas-news-prod.cdn.arcpublishing.com/resizer/c66zALU4D3LEls3780m-xD8ZAyI=/830x467/smart/filters:no_upscale()/cloudfront-us-east-1.images.arcpublishing.com/dmn/KOPD73S7PVFU7HTIETR4XQOCJQ.jpg', 'publishedAt': '2023-09-26T23:08:52Z', 'content': 'Dallas will serve as one of three U.S. hubs for a $2.5 billion federal biotech research agency after months of targeted campaigning by Texas cities, universities and science advocates, cementing Nort… [+7327 chars]'}, {'source': {'id': None, 'name': 'YouTube'}, 'author': None, 'title': \"Mark Zuckerberg Talks AI And That Musk Fight That's Never Going To Happen - Forbes\", 'description': 'Sitting in a glass-walled conference room nicknamed The Aquarium, Mark Zuckerberg runs a cost/benefit analysis on the topic that has brought him headlines th...', 'url': 'https://www.youtube.com/watch?v=_hbqrnpHN-U', 'urlToImage': 'https://i.ytimg.com/vi/_hbqrnpHN-U/maxresdefault.jpg', 'publishedAt': '2023-09-26T23:00:01Z', 'content': None}, {'source': {'id': 'the-wall-street-journal', 'name': 'The Wall Street Journal'}, 'author': 'Jack Pitcher, David Marino-Nachison', 'title': \"Costco Membership Price Increase a Matter of 'When, Not If' - The Wall Street Journal\", 'description': 'Dow drops nearly 400 points; S&P 500 sectors all retreat', 'url': 'https://www.wsj.com/livecoverage/stock-market-today-dow-jones-09-26-2023', 'urlToImage': 'https://images.wsj.net/im-857952/social', 'publishedAt': '2023-09-26T22:53:00Z', 'content': 'Costco said it will raise the price of its membership fee at some point but isnt ready to make any announcement now.\\r\\nIts \"a question of when, not if,\" Chief Financial Officer Richard Galanti said on… [+279 chars]'}, {'source': {'id': 'the-wall-street-journal', 'name': 'The Wall Street Journal'}, 'author': 'Deepa Seetharaman, Berber Jin', 'title': 'OpenAI Seeks New Valuation of Up to $90 Billion in Sale of Existing Shares - WSJ - The Wall Street Journal', 'description': 'Potential sale would value startup at roughly triple where it was set earlier this year', 'url': 'https://www.wsj.com/tech/ai/openai-seeks-new-valuation-of-up-to-90-billion-in-sale-of-existing-shares-ed6229e0', 'urlToImage': 'https://images.wsj.net/im-858234/social', 'publishedAt': '2023-09-26T22:21:00Z', 'content': None}, {'source': {'id': 'politico', 'name': 'Politico'}, 'author': None, 'title': 'Trump expands criminal defense team - POLITICO - POLITICO', 'description': \"Emil Bove, a former federal prosecutor, and Kendra Wharton, a white collar defense lawyer, joined the former president's legal team after the abrupt departures of three Trump attorneys over the summer.\", 'url': 'https://www.politico.com/news/2023/09/26/trump-criminal-defense-team-prosecutor-00118258', 'urlToImage': 'https://static.politico.com/c4/26/7f23b51446c59e6e15b6a5822e2e/election-2024-trump-46212.jpg', 'publishedAt': '2023-09-26T21:40:39Z', 'content': 'The additions are the most significant new legal hires in months for Trump as he prepares for multiple criminal trials scheduled for next year. Bove and Wharton are expected to help fill out a team t… [+2163 chars]'}, {'source': {'id': None, 'name': 'CNBC'}, 'author': 'Cheyenne DeVon', 'title': \"Here's how much money you'd have if you invested $1,000 in Costco 10 years ago - CNBC\", 'description': \"Costco reported its fiscal fourth-quarter earnings beating analysts' expectations. Here's how much you'd have if you invested $1,000 one, five and 10 years ago.\", 'url': 'https://www.cnbc.com/2023/09/26/costco-how-much-money-youd-have-if-you-invested-1000-a-decade-ago.html', 'urlToImage': 'https://image.cnbcfm.com/api/v1/image/107306647-1695737403194-gettyimages-1580864430-AFP_33QR73W.jpeg?v=1695764172&w=1920&h=1080', 'publishedAt': '2023-09-26T21:36:12Z', 'content': \"From hot dogs to gas, Costco is already known for offering its members steep discounts on a wide array of items. Now, members will be able to save money on doctor's visits too.\\r\\nOn Monday, Sesame, a … [+3130 chars]\"}, {'source': {'id': None, 'name': 'WTAE Pittsburgh'}, 'author': 'Lily Coleman', 'title': '10-year-old takes construction equipment for a ride through Brookline neighborhood - WTAE Pittsburgh', 'description': '\"As soon as I heard the crash and I heard beeping, I was like, \\'I know it\\'s my car,\\'\" Taylor Shea said.', 'url': 'https://www.wtae.com/article/brookline-bobcat-ride-fordham-avenue-damage/45328206', 'urlToImage': 'https://kubrick.htvapps.com/htv-prod-media.s3.amazonaws.com/images/brookline-1-png-651341c96f311.png?crop=1.00xw:1.00xh;0,0&resize=1200:*', 'publishedAt': '2023-09-26T21:15:00Z', 'content': \"PITTSBURGH —Neighbors in the city's Brookline neighborhood were left with quite a mess after a stolen Bobcat construction vehicle caused significant damage to a number of cars and properties along Fo… [+1836 chars]\"}, {'source': {'id': None, 'name': 'PennLive'}, 'author': 'EmilyAnn Jackman |ejackman@pennlive.com', 'title': 'American Airlines flight attendant found dead at Pa. airport hotel, labeled ‘suspicious’: reports - PennLive', 'description': 'The 66-year-old woman was found unresponsive inside one of the hotel rooms by a cleaning crew with “a cloth in her mouth.”', 'url': 'https://www.pennlive.com/crime/2023/09/american-airlines-flight-attendant-found-dead-at-pa-airport-hotel-labeled-suspicious-reports.html', 'urlToImage': 'https://www.pennlive.com/resizer/irVHGkE3sC4IAEjKBcfSKkGpldc=/1280x0/smart/cloudfront-us-east-1.images.arcpublishing.com/advancelocal/4AVRA76WSVBNDK34E6IZGTNSOA.jpg', 'publishedAt': '2023-09-26T21:14:00Z', 'content': 'The body of a flight attendant was discovered inside a Marriott hotel room at the Philadelphia International Airport.\\r\\nNow, the shocking discovery has sparked the Homicide Detectives Division to inve… [+1167 chars]'}, {'source': {'id': None, 'name': 'CNBC'}, 'author': 'Gabrielle Fonrouge', 'title': 'Peloton co-founder and Chief Product Officer Tom Cortese is leaving the company - CNBC', 'description': 'Cortese will be replaced by Silicon Valley veteran Nick Caldwell, who previously held positions at Twitter, Google and Microsoft.', 'url': 'https://www.cnbc.com/2023/09/26/peloton-co-founder-tom-cortese-leaving-company.html', 'urlToImage': 'https://image.cnbcfm.com/api/v1/image/107249876-1685705682884-gettyimages-1365914913-dsc08125_025e022c-b5fa-4a6f-a8d7-a5323ae1b4ef.jpeg?v=1695764290&w=1920&h=1080', 'publishedAt': '2023-09-26T20:58:36Z', 'content': 'People walk past a Peloton store in Coral Gables, Florida, on Jan. 20, 2022.\\r\\nPeloton co-founder and Chief Product Officer Tom Cortese is leaving the company and will be replaced by longtime Silicon … [+4463 chars]'}, {'source': {'id': 'fortune', 'name': 'Fortune'}, 'author': 'Shawn Tully', 'title': 'The S&P is heading below 3,000. Basic math (and a metric beloved by famed economist Robert Shiller) suggests it - Fortune', 'description': 'Basic math suggests it.', 'url': 'https://fortune.com/2023/09/26/how-low-sp-500-markets-cape-ratio-robert-shiller-basic-math/', 'urlToImage': 'https://content.fortune.com/wp-content/uploads/2023/09/GettyImages-1661433804-e1695761018525.jpg?resize=1200,600', 'publishedAt': '2023-09-26T20:55:00Z', 'content': 'Stocks have suffered a rough September, with the S&amp;P 500 dropping from 4,516 at the months start to 4,275 by midday on September 26, a drop of 5.3% in just 18 trading days. Of course, the apparen… [+5110 chars]'}, {'source': {'id': 'cnn', 'name': 'CNN'}, 'author': 'Lauren del Valle', 'title': 'JPMorgan agrees to pay $75 million to settle sex-trafficking lawsuit - CNN', 'description': 'JPMorgan Chase has reached a settlement with the US Virgin Islands over a lawsuit alleging the bank enabled Jeffrey Epstein’s sex-trafficking crimes.', 'url': 'https://www.cnn.com/2023/09/26/business/jpmorgan-jeffrey-epstein-us-virgin-islands/index.html', 'urlToImage': 'https://media.cnn.com/api/v1/images/stellar/prod/230926100729-jpmorgan-chase-headquarters-0526.jpg?c=16x9&q=w_800,c_fill', 'publishedAt': '2023-09-26T20:55:00Z', 'content': 'JPMorgan Chase has reached a settlement with the US Virgin Islands over a lawsuit alleging the bank enabled Jeffrey Epsteins sex-trafficking crimes. \\r\\nThe settlement includes significant commitments … [+1875 chars]'}, {'source': {'id': None, 'name': 'The Dallas Morning News'}, 'author': 'Mitchell Parton', 'title': 'Dallas-Fort Worth area home prices have plateaued, index shows - The Dallas Morning News', 'description': 'July marked the sixth month in a row where home prices grew locally and nationally from the previous month, according to a much-watched measure of the U.S....', 'url': 'https://www.dallasnews.com/business/real-estate/2023/09/26/us-home-prices-reach-all-time-high-as-dallas-fort-worth-prices-plateau/', 'urlToImage': 'https://dmn-dallas-news-prod.cdn.arcpublishing.com/resizer/rhjrV2RiDYfU5zeNKIrqF4NJqaw=/830x467/smart/filters:no_upscale()/cloudfront-us-east-1.images.arcpublishing.com/dmn/FYT7SSSW3NDXNCYJU62IXDAXM4.jpg', 'publishedAt': '2023-09-26T20:39:23Z', 'content': 'A key measure of the U.S. housing market showed July as the sixth month in a row where home prices grew slightly locally and nationally from the previous month. National prices reached a new all-time… [+3624 chars]'}, {'source': {'id': None, 'name': 'YouTube'}, 'author': None, 'title': \"China's housing crisis deepens as Evergrande shares slide - BBC News - BBC News\", 'description': 'Shares in the Chinese property firm Evergrande have fallen as problems in the country’s struggling housing market deepen – affecting the wider economy.  Its ...', 'url': 'https://www.youtube.com/watch?v=0lvDojeFL-I', 'urlToImage': 'https://i.ytimg.com/vi/0lvDojeFL-I/maxresdefault.jpg', 'publishedAt': '2023-09-26T20:30:01Z', 'content': None}, {'source': {'id': None, 'name': \"Investor's Business Daily\"}, 'author': \"Investor's Business Daily\", 'title': \"IMVT Stock Doubles As Autoimmune Drug Battle Heats With Argenx - Investor's Business Daily\", 'description': 'Immunovant is hoping to come up with the best drug in its class, lowering a key antibody tied to autoimmune diseases.', 'url': 'https://www.investors.com/news/technology/imvt-stock-launches-as-autoimmune-drug-battle-heats-with-argenx/', 'urlToImage': 'https://www.investors.com/wp-content/uploads/2018/04/stock-drugs-12-adobe.jpg', 'publishedAt': '2023-09-26T20:13:00Z', 'content': 'Immunovant (IMVT) said Tuesday its drug lowered a key antibody in healthy people, signaling it could treat a myriad autoimmune conditions, and IMVT stock launched to a two-year high.\\r\\nXThe company te… [+3247 chars]'}]}\n"
     ]
    }
   ],
   "source": [
    "top_headlines = newsapi.get_top_headlines(category='business', country='us')\n",
    "\n",
    "print(top_headlines)"
   ]
  },
  {
   "cell_type": "code",
   "execution_count": 35,
   "metadata": {},
   "outputs": [],
   "source": [
    "data = top_headlines['articles'][2]"
   ]
  },
  {
   "cell_type": "code",
   "execution_count": 36,
   "metadata": {},
   "outputs": [
    {
     "data": {
      "text/plain": [
       "'https://www.foxbusiness.com/lifestyle/mcdonalds-introducing-pair-new-limited-time-dipping-sauces-menu'"
      ]
     },
     "execution_count": 36,
     "metadata": {},
     "output_type": "execute_result"
    }
   ],
   "source": [
    "data['url']"
   ]
  },
  {
   "cell_type": "code",
   "execution_count": 42,
   "metadata": {},
   "outputs": [],
   "source": [
    "from bs4 import BeautifulSoup\n",
    "import csv\n",
    "from urllib.request import urlopen\n",
    "URL = data['url']\n",
    "page = urlopen(URL)\n",
    "html = page.read().decode('utf-8')\n",
    "soup = BeautifulSoup(html, 'html.parser')\n",
    "\n",
    "article_url = soup.get_text()\n",
    "\n"
   ]
  },
  {
   "cell_type": "code",
   "execution_count": 43,
   "metadata": {},
   "outputs": [
    {
     "name": "stdout",
     "output_type": "stream",
     "text": [
      "McDonald’s introducing pair of new limited-time dipping sauces to menu | Fox Business Fox Business Personal FinanceEconomyMarketsWatchlistLifestyleReal EstateTechVideoPodcasts More Expand / Collapse search Login Watch TV Menu    Personal Finance MortgagesStudent LoansCredit CardsPersonal LoansSavingsInsurance401kRetirementTax PlanningEconomy Government SpendingMoney & PolicySmall BusinessInflationMarkets StocksUS MarketsCryptocurrencyFutures & CommoditiesBondsETFsBusiness LeadersIndustriesRetailPre-MarketsMutual FundsWatchlist Lifestyle EntertainmentRich & FamousTravelCarsAirplanesFood & DrinksArtsReal Estate PersonalCommercialLuxury PropertiesTech DigitalSocial MediaGadgetsBusiness TechHealthcare TechFuture TechAISpaceSports NFLNBAMLBNASCARBoxingSoccerGolfTennisOpinion Video About Channel FinderJobsTerms of UseUpdated Privacy PolicyFAQMedia RelationsCorporate InformationClosed Captioning PolicyAccessibility StatementFox NewsFox NationFox Business GoApps & Products Facebook Twitter Fox Business New Terms of UseNew Privacy PolicyYour Privacy ChoicesHelpClosed Captioning Policy Quotes displayed in real-time or delayed by at least 15 minutes. Market data provided by Factset. Powered and implemented by FactSet Digital Solutions. Legal Statement. This material may not be published, broadcast, rewritten, or redistributed. ©2023 FOX News Network, LLC. All rights reserved. FAQ - New Privacy Policy   Lifestyle Published September 26, 2023 8:14pm EDT McDonald's introducing pair of new limited-time dipping sauces to menu McDonald's unveiled the pair of sauces on Tuesday  Facebook Twitter Comments Print Email By  Aislinn Murphy  FOXBusiness     close      video FOX Business Flash top headlines for September 26 Check out what's clicking on FoxBusiness.com McDonald’s customers will soon have a couple more choices for dipping sauces.  That will happen for a limited time once participating U.S. McDonald’s restaurants start making two new dipping sauces named Sweet & Spicy Jam Sauce and Mambo Sauces an option for customers in the upcoming month. The announcement for both came on Tuesday. McDonald’s USA Chief Marketing and Customer Experience Officer Tariq Hassan said the company \"gets inspiration for the food our fans love by exploring the incredible taste and flavors found in communities across the country.\" For the latter sauce, it drew inspiration from the well-known District of Columbia- and Chicago-linked sauce.      Signage is displayed outside a McDonald's restaurant in Louisville, Kentucky, on Jan. 14, 2019. (Luke Sharrett/Bloomberg via Getty Images / Getty Images)Both will become dipping options nationwide as of Oct. 9 and remain so \"while supplies last,\" per McDonald’s. The fast-food chain has said its U.S. presence spans about 13,500 stores.  MCDONALD'S WORKER SHARES SECRETS IN TIKTOK VIDEOMcDonald’s urged consumers to try them with various menu items. McDonald's Corp The fast-food chain labeled the Sweet & Spicy Jam offering a \"jammy red pepper sauce\" that also has apple cider vinegar, Szechuan peppercorn and cayenne pepper. Meanwhile, the Mambo sauce boasts \"tomato-based, sweet, spicy and vinegary\" flavors, it said. MCDONALD'S SAYS GOODBYE TO SELF-SERVE SODAMcDonald’s has taken other menu-related actions this year. Last week, for example, McDonald’s menus gained Spicy Chicken McNuggets once again. In early August, a Peanut Butter Crunch McFlurry joined. Both items rolled out on a limited-time basis.      The McDonald's logo is seen on a restaurant in Streator, Illinois, on Oct. 15, 2022. (Jakub Porzycki/NurPhoto via Getty Images / Getty Images)It also pumped the brakes on the apple fritter, blueberry muffin and cinnamon roll, a move FOX Business previously reported on.MCDONALD'S SPICY CHICKEN MCNUGGETS ARE BACK ON THE MENUMcDonald’s also said Tuesday it will publish a documentary on its YouTube channel \"sharing the real stories of the sauce makers, restaurateurs, small business owners and fans keeping the culture of Mambo strong.\"Ticker Security Last Change Change % MCD MCDONALD'S CORP. 263.70 -4.05 -1.51% Over 38,000 McDonald’s locations in total appear across the globe, according to the company.          U.S. Stock Market Quotes      Advertisement  Advertisement  Advertisement  Advertisement    Personal Finance MortgagesStudent LoansCredit CardsPersonal LoansSavingsInsurance401kRetirementTax PlanningEconomy Government SpendingMoney & PolicySmall BusinessInflationMarkets StocksUS MarketsCryptocurrencyFutures & CommoditiesBondsETFsBusiness LeadersIndustriesRetailPre-MarketsMutual FundsWatchlist Lifestyle EntertainmentRich & FamousTravelCarsAirplanesFood & DrinksArtsReal Estate PersonalCommercialLuxury PropertiesTech DigitalSocial MediaGadgetsBusiness TechHealthcare TechFuture TechAISpaceSports NFLNBAMLBNASCARBoxingSoccerGolfTennisOpinion Video About Channel FinderJobsTerms of UseUpdated Privacy PolicyFAQMedia RelationsCorporate InformationClosed Captioning PolicyAccessibility StatementFox NewsFox NationFox Business GoApps & Products Facebook Twitter RSS Fox Business New Terms of UseNew Privacy PolicyYour Privacy ChoicesHelpClosed Captioning Policy Quotes displayed in real-time or delayed by at least 15 minutes. Market data provided by Factset. Powered and implemented by FactSet Digital Solutions. Legal Statement. This material may not be published, broadcast, rewritten, or redistributed. ©2023 FOX News Network, LLC. All rights reserved. FAQ - New Privacy Policy\n"
     ]
    }
   ],
   "source": [
    "cleaned = ' '.join(part.strip() for part in article_url.split('\\n') if part.strip())\n",
    "print(cleaned)"
   ]
  },
  {
   "cell_type": "code",
   "execution_count": 44,
   "metadata": {},
   "outputs": [
    {
     "name": "stdout",
     "output_type": "stream",
     "text": [
      "McDonald’s introducing pair of new limited-time dipping sauces to menu | Fox Business\n",
      "\n",
      "Fox Business Personal FinanceEconomyMarketsWatchlistLifestyleReal EstateTechVideoPodcasts More Expand / Collapse search Login Watch TV Menu    Personal Finance MortgagesStudent LoansCredit CardsPersonal LoansSavingsInsurance401kRetirementTax PlanningEconomy Government SpendingMoney & PolicySmall BusinessInflationMarkets StocksUS MarketsCryptocurrencyFutures & CommoditiesBondsETFsBusiness LeadersIndustriesRetailPre-MarketsMutual FundsWatchlist Lifestyle EntertainmentRich & FamousTravelCarsAirplanesFood & DrinksArtsReal Estate PersonalCommercialLuxury PropertiesTech DigitalSocial MediaGadgetsBusiness TechHealthcare TechFuture TechAISpaceSports NFLNBAMLBNASCARBoxingSoccerGolfTennisOpinion Video About Channel FinderJobsTerms of UseUpdated Privacy PolicyFAQMedia RelationsCorporate InformationClosed Captioning PolicyAccessibility StatementFox NewsFox NationFox Business GoApps & Products Facebook Twitter Fox Business New Terms of UseNew Privacy PolicyYour Privacy ChoicesHelpClosed Captioning Policy\n",
      "\n",
      "Quotes displayed in real-time or delayed by at least 15 minutes. Market data provided by Factset.\n",
      "\n",
      "Powered and implemented by FactSet Digital Solutions.\n",
      "\n",
      "Legal Statement.\n",
      "\n",
      "This material may not be published, broadcast, rewritten, or redistributed. ©2023 FOX News Network, LLC. All rights reserved. FAQ - New Privacy Policy   Lifestyle Published September 26, 2023 8:14pm EDT\n",
      "\n",
      "McDonald's introducing pair of new limited-time dipping sauces to menu McDonald's unveiled the pair of sauces on Tuesday  Facebook Twitter Comments Print Email By  Aislinn Murphy  FOXBusiness     close      video FOX Business Flash top headlines for September 26 Check out what's clicking on FoxBusiness.com McDonald’s customers will soon have a couple more choices for dipping sauces.  That will happen for a limited time once participating U.S. McDonald’s restaurants start making two new dipping sauces named Sweet & Spicy Jam Sauce and Mambo Sauces an option for customers in the upcoming month. The announcement for both came on Tuesday. McDonald’s USA Chief Marketing and Customer Experience Officer Tariq Hassan said the company \"gets inspiration for the food our fans love by exploring the incredible taste and flavors found in communities across the country.\" For the latter sauce, it drew inspiration from the well-known District of Columbia- and Chicago-linked sauce.      Signage is displayed outside a McDonald's restaurant in Louisville, Kentucky, on Jan. 14, 2019. (Luke Sharrett/Bloomberg via Getty Images / Getty Images)Both will become dipping options nationwide as of Oct. 9 and remain so \"while supplies last,\" per McDonald’s. The fast-food chain has said its U.S. presence spans about 13,500 stores.  MCDONALD'S WORKER SHARES SECRETS IN TIKTOK VIDEOMcDonald’s urged consumers to try them with various menu items.\n",
      "\n",
      "McDonald's Corp\n",
      "\n",
      "The fast-food chain labeled the Sweet & Spicy Jam offering a \"jammy red pepper sauce\" that also has apple cider vinegar, Szechuan peppercorn and cayenne pepper. Meanwhile, the Mambo sauce boasts \"tomato-based, sweet, spicy and vinegary\" flavors, it said. MCDONALD'S SAYS GOODBYE TO SELF-SERVE SODAMcDonald’s has taken other menu-related actions this year. Last week, for example, McDonald’s menus gained Spicy Chicken McNuggets once again. In early August, a Peanut Butter Crunch McFlurry joined. Both items rolled out on a limited-time basis.      The McDonald's logo is seen on a restaurant in Streator, Illinois, on Oct. 15, 2022. (Jakub Porzycki/NurPhoto via Getty Images / Getty Images)It also pumped the brakes on the apple fritter, blueberry muffin and cinnamon roll, a move FOX Business previously reported on.MCDONALD'S SPICY CHICKEN MCNUGGETS ARE BACK ON THE MENUMcDonald’s also said Tuesday it will publish a documentary on its YouTube channel \"sharing the real stories of the sauce makers, restaurateurs, small business owners and fans keeping the culture of Mambo strong.\"Ticker Security Last Change Change % MCD MCDONALD'S CORP. 263.70 -4.05 -1.51% Over 38,000 McDonald’s locations in total appear across the globe, according to the company.          U.S. Stock Market Quotes      Advertisement  Advertisement  Advertisement  Advertisement    Personal Finance MortgagesStudent LoansCredit CardsPersonal LoansSavingsInsurance401kRetirementTax PlanningEconomy Government SpendingMoney & PolicySmall BusinessInflationMarkets StocksUS MarketsCryptocurrencyFutures & CommoditiesBondsETFsBusiness LeadersIndustriesRetailPre-MarketsMutual FundsWatchlist Lifestyle EntertainmentRich & FamousTravelCarsAirplanesFood & DrinksArtsReal Estate PersonalCommercialLuxury PropertiesTech DigitalSocial MediaGadgetsBusiness TechHealthcare TechFuture TechAISpaceSports NFLNBAMLBNASCARBoxingSoccerGolfTennisOpinion Video About Channel FinderJobsTerms of UseUpdated Privacy PolicyFAQMedia RelationsCorporate InformationClosed Captioning PolicyAccessibility StatementFox NewsFox NationFox Business GoApps & Products Facebook Twitter RSS Fox Business New Terms of UseNew Privacy PolicyYour Privacy ChoicesHelpClosed Captioning Policy\n",
      "\n",
      "Quotes displayed in real-time or delayed by at least 15 minutes. Market data provided by Factset.\n",
      "\n",
      "Powered and implemented by FactSet Digital Solutions.\n",
      "\n",
      "Legal Statement.\n",
      "\n",
      "This material may not be published, broadcast, rewritten, or redistributed. ©2023 FOX News Network, LLC. All rights reserved. FAQ - New Privacy Policy\n"
     ]
    }
   ],
   "source": [
    "cleaned_paragraph = '\\n\\n'.join(part.strip() for part in article_url.split('\\n') if part.strip())\n",
    "print(cleaned_paragraph)"
   ]
  },
  {
   "cell_type": "code",
   "execution_count": 46,
   "metadata": {},
   "outputs": [],
   "source": [
    "filename = '/Users/jaehyungroh/News/output.txt'\n",
    "\n",
    "with open(filename, 'w') as file:\n",
    "    file.write(cleaned_paragraph)\n"
   ]
  },
  {
   "cell_type": "code",
   "execution_count": null,
   "metadata": {},
   "outputs": [],
   "source": []
  }
 ],
 "metadata": {
  "kernelspec": {
   "display_name": "Python 3",
   "language": "python",
   "name": "python3"
  },
  "language_info": {
   "codemirror_mode": {
    "name": "ipython",
    "version": 3
   },
   "file_extension": ".py",
   "mimetype": "text/x-python",
   "name": "python",
   "nbconvert_exporter": "python",
   "pygments_lexer": "ipython3",
   "version": "3.9.7"
  },
  "orig_nbformat": 4
 },
 "nbformat": 4,
 "nbformat_minor": 2
}
